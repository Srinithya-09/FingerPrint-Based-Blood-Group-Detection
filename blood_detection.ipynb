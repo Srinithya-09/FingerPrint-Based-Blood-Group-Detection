{
 "cells": [
  {
   "cell_type": "code",
   "execution_count": 2,
   "id": "0daf3b29-7c53-4bf1-ad3f-3dc882d08cff",
   "metadata": {},
   "outputs": [
    {
     "ename": "NameError",
     "evalue": "name 'cv2' is not defined",
     "output_type": "error",
     "traceback": [
      "\u001b[1;31m---------------------------------------------------------------------------\u001b[0m",
      "\u001b[1;31mNameError\u001b[0m                                 Traceback (most recent call last)",
      "Cell \u001b[1;32mIn[2], line 10\u001b[0m\n\u001b[0;32m      7\u001b[0m test_img_path \u001b[38;5;241m=\u001b[39m \u001b[38;5;124m'\u001b[39m\u001b[38;5;124mcluster_4_542.bmp\u001b[39m\u001b[38;5;124m'\u001b[39m  \u001b[38;5;66;03m# Change to your actual file name if needed\u001b[39;00m\n\u001b[0;32m      9\u001b[0m \u001b[38;5;66;03m# Load and preprocess the image\u001b[39;00m\n\u001b[1;32m---> 10\u001b[0m img \u001b[38;5;241m=\u001b[39m \u001b[43mcv2\u001b[49m\u001b[38;5;241m.\u001b[39mimread(test_img_path, cv2\u001b[38;5;241m.\u001b[39mIMREAD_GRAYSCALE)\n\u001b[0;32m     11\u001b[0m \u001b[38;5;28;01mif\u001b[39;00m img \u001b[38;5;129;01mis\u001b[39;00m \u001b[38;5;129;01mnot\u001b[39;00m \u001b[38;5;28;01mNone\u001b[39;00m:\n\u001b[0;32m     12\u001b[0m     img \u001b[38;5;241m=\u001b[39m cv2\u001b[38;5;241m.\u001b[39mresize(img, (\u001b[38;5;241m128\u001b[39m, \u001b[38;5;241m128\u001b[39m))\n",
      "\u001b[1;31mNameError\u001b[0m: name 'cv2' is not defined"
     ]
    }
   ],
   "source": [
    "from tensorflow.keras.models import load_model\n",
    "\n",
    "# Load your saved model\n",
    "model = load_model(\"blood_group_model.keras\")\n",
    "\n",
    "# Path to your test fingerprint image\n",
    "test_img_path = 'cluster_4_542.bmp'  # Change to your actual file name if needed\n",
    "\n",
    "# Load and preprocess the image\n",
    "img = cv2.imread(test_img_path, cv2.IMREAD_GRAYSCALE)\n",
    "if img is not None:\n",
    "    img = cv2.resize(img, (128, 128))\n",
    "    img = img / 255.0\n",
    "    img = img.reshape(1, 128, 128, 1)\n",
    "\n",
    "    # Make prediction\n",
    "    prediction = model.predict(img)\n",
    "    predicted_class = np.argmax(prediction)\n",
    "    confidence = np.max(prediction)\n",
    "\n",
    "    # Map back to blood group label\n",
    "    classes = ['A+', 'A-', 'B+', 'B-', 'AB+', 'AB-', 'O+', 'O-']\n",
    "    print(f\"🧬 Predicted Blood Group: {classes[predicted_class]} with {confidence * 100:.2f}% confidence\")\n",
    "else:\n",
    "    print(\"⚠ Could not read the test image. Check the file path and format.\")"
   ]
  },
  {
   "cell_type": "code",
   "execution_count": null,
   "id": "d3746ca6-0986-4596-bba1-973310ca8725",
   "metadata": {},
   "outputs": [],
   "source": []
  }
 ],
 "metadata": {
  "kernelspec": {
   "display_name": "Python 3 (ipykernel)",
   "language": "python",
   "name": "python3"
  },
  "language_info": {
   "codemirror_mode": {
    "name": "ipython",
    "version": 3
   },
   "file_extension": ".py",
   "mimetype": "text/x-python",
   "name": "python",
   "nbconvert_exporter": "python",
   "pygments_lexer": "ipython3",
   "version": "3.10.0"
  }
 },
 "nbformat": 4,
 "nbformat_minor": 5
}
